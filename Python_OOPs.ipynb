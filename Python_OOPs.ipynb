{
  "nbformat": 4,
  "nbformat_minor": 0,
  "metadata": {
    "colab": {
      "provenance": []
    },
    "kernelspec": {
      "name": "python3",
      "display_name": "Python 3"
    },
    "language_info": {
      "name": "python"
    }
  },
  "cells": [
    {
      "cell_type": "markdown",
      "source": [
        "### **1. What is Object-Oriented Programming (OOP)?**\n",
        "**Ans.-** **Object-Oriented Programming** or OOPs refers to languages that\n",
        "     useobjects in programming. Object-oriented programming aims to implement\n",
        "     real-world entities like inheritance, hiding, polymorphism, etc in\n",
        "     programming. The main aim of OOP is to bind together the data and the\n",
        "     functions that operate on them so that no other part of the code can access\n",
        "     this data except that function.\n",
        "\n",
        "\n",
        "**Classes and Objects:**\n",
        "\n",
        "A class is a blueprint for creating objects, defining their properties (data) and methods (functions). An object is an instance of a class, representing a specific entity with its own set of properties and behaviors.\n",
        "\n",
        "**Inheritance:**\n",
        "\n",
        "A mechanism where a new class (child class) inherits properties and behaviors from an existing class (parent class).\n",
        "\n",
        "**Encapsulation:**\n",
        "\n",
        "The bundling of data (attributes) and the methods that operate on that data within a class. It helps control access to data, protecting it from unauthorized modification.\n",
        "\n",
        "**Abstraction:**\n",
        "\n",
        "The process of hiding complex implementation details and exposing only essential information to the user. This simplifies the interface and makes the code easier to understand and use.\n",
        "\n",
        "**Polymorphism:**\n",
        "\n",
        "The ability of objects to take on many forms, allowing different classes to be treated in a uniform way while maintaining their unique characteristics.\n",
        "\n",
        "**Benefits of OOP:**\n",
        "\n",
        "**Modularity:-** Code is organized into reusable modules (classes).\n",
        "\n",
        "**Reusability:-** Classes and objects can be reused in different parts of the program or in other projects.\n",
        "\n",
        "**Maintainability:-** OOP makes it easier to modify and debug code by isolating changes to individual objects.\n",
        "\n",
        "**Scalability:-** OOP enables the development of complex and scalable applications.\n",
        "\n",
        "**Example:**\n",
        "Imagine you're creating a program for a school. Using OOP, you could create:\n",
        "1. A Student class:\n",
        "This class could define properties like name, studentID, grade, and methods like enrollInCourse(), getGrade(), etc.\n",
        "2. A Course class:\n",
        "This class could define properties like courseName, creditHours, instructor, and methods like enrollStudent(), getStudentList(), etc.\n",
        "\n",
        "\n",
        "\n",
        "###**2.What is a class in OOP?**\n",
        "**Ans.-**A class in Python, fundamental to object-oriented programming (OOP),\n",
        " serves as a blueprint for creating objects. It encapsulates data (attributes)\n",
        " and behavior (methods) into a single unit. Classes facilitate code\n",
        " reusability, organization, and abstraction.\n",
        "\n",
        "\n",
        "A class is defined using the class keyword, followed by the class name and a\n",
        "colon. Inside the class block, attributes and methods are defined. Attributes\n",
        "represent the state of an object, while methods define its behavior.\n",
        "\n",
        "For instance, consider a Dog class:\n",
        "\n",
        "\n"
      ],
      "metadata": {
        "id": "-f6h3iQexfzb"
      }
    },
    {
      "cell_type": "code",
      "source": [
        "class Dog:\n",
        "    species = \"Canis familiaris\" # Class attribute\n",
        "\n",
        "    def __init__(self, name, age):\n",
        "        self.name = name # Instance attribute\n",
        "        self.age = age   # Instance attribute\n",
        "\n",
        "    def bark(self):\n",
        "        return \"Woof!\"\n",
        "\n",
        "    def description(self):\n",
        "        return f\"{self.name} is {self.age} years old\""
      ],
      "metadata": {
        "id": "AFpBhQ290sBV"
      },
      "execution_count": 1,
      "outputs": []
    },
    {
      "cell_type": "markdown",
      "source": [
        "### **3. What is an object in OOP?**\n",
        "**Ans.-**An object can be defined as a data field that has unique attributes\n",
        " and behavior. OOP focuses on the objects that developers want to manipulate\n",
        " rather than the logic required to manipulate them. This approach to\n",
        " programming is well suited for software that is large, complex and actively\n",
        " updated or maintained.\n",
        "\n",
        "\n",
        "###**4. What is the difference between abstraction and encapsulation?**\n",
        " **Ans.**\n",
        "        Feature                 Abstraction                   Encapsulation\n",
        "\n",
        "---\n",
        "      purpose            Hides complex implementation        Bundles data and\n",
        "                         details, showing only essential     methods,control,\n",
        "                         information                                          \n",
        "\n",
        "---\n",
        "     focus               What an object does.             How an object manages\n",
        "                                                          its data.\n",
        "\n",
        "---\n",
        "     Implementation      Achieved through abstract         Achieved through\n",
        "                         classes, interfaces, and          access modifiers\n",
        "                         methods.                          \n",
        "\n",
        "---\n",
        "     Analogy             Using a remote control to       A capsule containing\n",
        "                         operate a      TV.                                                    \n",
        "\n",
        "---\n",
        "\n",
        "             \n",
        "                                                             \n",
        "\n",
        "                    \n",
        "\n"
      ],
      "metadata": {
        "id": "rkiQ-FR208_y"
      }
    },
    {
      "cell_type": "markdown",
      "source": [
        "### **5. What are dunder methods in Python?**\n",
        "**Ans.**\n",
        "\n",
        "   **Dunder or magic methods in Python**\n",
        "\n",
        "  **Python Magic methods** are the methods starting and ending with double\n",
        "   underscores ‘__’. They are defined by built-in classes in Python and\n",
        "   commonly used for operator overloading.\n",
        "\n",
        "   They are also called Dunder methods, Dunder here means “Double Under (Underscores)”.\n",
        "\n",
        "   Example:-\n",
        "   "
      ],
      "metadata": {
        "id": "1ZswrEhH-BLZ"
      }
    },
    {
      "cell_type": "code",
      "source": [
        "# code\n",
        "print(dir(int))"
      ],
      "metadata": {
        "colab": {
          "base_uri": "https://localhost:8080/"
        },
        "id": "eo3FFYIp_Ta9",
        "outputId": "b99d397c-a709-45d3-cce4-735c01c802d5"
      },
      "execution_count": 1,
      "outputs": [
        {
          "output_type": "stream",
          "name": "stdout",
          "text": [
            "['__abs__', '__add__', '__and__', '__bool__', '__ceil__', '__class__', '__delattr__', '__dir__', '__divmod__', '__doc__', '__eq__', '__float__', '__floor__', '__floordiv__', '__format__', '__ge__', '__getattribute__', '__getnewargs__', '__getstate__', '__gt__', '__hash__', '__index__', '__init__', '__init_subclass__', '__int__', '__invert__', '__le__', '__lshift__', '__lt__', '__mod__', '__mul__', '__ne__', '__neg__', '__new__', '__or__', '__pos__', '__pow__', '__radd__', '__rand__', '__rdivmod__', '__reduce__', '__reduce_ex__', '__repr__', '__rfloordiv__', '__rlshift__', '__rmod__', '__rmul__', '__ror__', '__round__', '__rpow__', '__rrshift__', '__rshift__', '__rsub__', '__rtruediv__', '__rxor__', '__setattr__', '__sizeof__', '__str__', '__sub__', '__subclasshook__', '__truediv__', '__trunc__', '__xor__', 'as_integer_ratio', 'bit_count', 'bit_length', 'conjugate', 'denominator', 'from_bytes', 'imag', 'numerator', 'real', 'to_bytes']\n"
          ]
        }
      ]
    },
    {
      "cell_type": "markdown",
      "source": [
        "### **6. Explain the concept of inheritance in OOP.**\n",
        "**Ans.-Inheritance in Python**\n",
        "\n",
        "  Inheritance is a fundamental concept in object-oriented programming (OOP)\n",
        "  that allows a class (called a child or derived class) to inherit\n",
        "  attributes and methods from another class (called a parent or base\n",
        "  class). This promotes code reuse, modularity, and a hierarchical class\n",
        "  structure. In this article, we’ll explore inheritance in Python.\n",
        "\n",
        "  \n",
        "        ."
      ],
      "metadata": {
        "id": "LVIa23Zm_Znc"
      }
    },
    {
      "cell_type": "code",
      "source": [
        "#example:-\n",
        "# Parent class\n",
        "class Animal:\n",
        "    def __init__(self, name):\n",
        "        self.name = name  # Initialize the name attribute\n",
        "\n",
        "    def speak(self):\n",
        "        pass  # Placeholder method to be overridden by child classes\n",
        "\n",
        "# Child class inheriting from Animal\n",
        "class Dog(Animal):\n",
        "    def speak(self):\n",
        "        return f\"{self.name} barks!\"  # Override the speak method\n",
        "\n",
        "# Creating an instance of Dog\n",
        "dog = Dog(\"Buddy\")\n",
        "print(dog.speak())"
      ],
      "metadata": {
        "colab": {
          "base_uri": "https://localhost:8080/"
        },
        "id": "ZkQnI9hMAMgZ",
        "outputId": "09cb1559-3bf1-4ab8-8db0-327fa11c4861"
      },
      "execution_count": 2,
      "outputs": [
        {
          "output_type": "stream",
          "name": "stdout",
          "text": [
            "Buddy barks!\n"
          ]
        }
      ]
    },
    {
      "cell_type": "markdown",
      "source": [
        "### **7. What is polymorphism in OOP?**\n",
        "**Ans.Polymorphism in OOPs**\n",
        "\n",
        "**Polymorphism** is the ability of any data to be processed in more than one form. The word itself indicates the meaning as poly means many and morphism means types. Polymorphism is one of the most important concepts of object-oriented programming languages. The most common use of polymorphism in object-oriented programming occurs when a parent class reference is used to refer to a child class object. Here we will see how to represent any function in many types and many forms. In a real-life example of polymorphism, a person at the same time can have different roles to play in life. Like a woman, at the same time is a mother, a wife, an employee and a daughter. So the same person has to have many features but has to implement each as per the situation and the condition. Polymorphism is considered as one of the important features of Object Oriented Programming."
      ],
      "metadata": {
        "id": "kVXlY6qEAaeo"
      }
    },
    {
      "cell_type": "markdown",
      "source": [
        "### **8. How is encapsulation achieved in Python?**\n",
        "**Ans.**In Python, **encapsulation** refers to the bundling of data (attributes)\n",
        " and methods (functions) that operate on the data into a single unit, typically\n",
        " a class. It also restricts direct access to some components, which helps\n",
        " protect the integrity of the data and ensures proper usage.\n",
        "\n",
        "\n",
        "**Table of Content**\n",
        "\n",
        "a) Encapsulation in Python\n",
        "\n",
        "b) Example of Encapsulation\n",
        "\n",
        "c) Public Members\n",
        "\n",
        "d) Protected members\n",
        "\n",
        "e) Private members\n",
        "\n",
        "**a) Encapsulation**\n",
        "\n",
        "Encapsulation is the process of hiding the internal state of an object and\n",
        "requiring all interactions to be performed through an object’s methods. This\n",
        "approach:\n",
        "\n",
        "Provides better control over data.\n",
        "\n",
        "Prevents accidental modification of data.\n",
        "\n",
        "Promotes modular programming.\n",
        "\n",
        "\n",
        "**b) Example of Encapsulation**\n",
        "\n",
        "Encapsulation in Python is like having a bank account system where your account\n",
        "balance (data) is kept private. You can’t directly change your balance by\n",
        "accessing the account database. Instead, the bank provides you with methods\n",
        "(functions) like deposit and withdraw to modify your balance safely.\n",
        "\n",
        "\n",
        "**Private Data (Balance)**: Your balance is stored securely. Direct access from\n",
        "outside is not allowed, ensuring the data is protected from unauthorized changes.\n",
        "\n",
        "**Public Methods (Deposit and Withdraw**): These are the only ways to modify\n",
        "your balance. They check if your requests (like withdrawing money) follow the\n",
        "rules (e.g., you have enough balance) before allowing changes.\n",
        "\n",
        "**c) Public Members**\n",
        "\n",
        "Public members are accessible from anywhere, both inside and outside the class. These are the default members in Python.\n",
        "\n",
        "\n"
      ],
      "metadata": {
        "id": "O22ir3dMCPmc"
      }
    },
    {
      "cell_type": "code",
      "source": [
        "#example:-\n",
        "class Public:\n",
        "    def __init__(self):\n",
        "        self.name = \"John\"  # Public attribute\n",
        "\n",
        "    def display_name(self):\n",
        "        print(self.name)  # Public method\n",
        "\n",
        "obj = Public()\n",
        "obj.display_name()  # Accessible\n",
        "print(obj.name)  # Accessible"
      ],
      "metadata": {
        "colab": {
          "base_uri": "https://localhost:8080/"
        },
        "id": "AS42un6fAYdJ",
        "outputId": "c8f800e9-4d32-4a2d-dc79-6a5bcef1a256"
      },
      "execution_count": 3,
      "outputs": [
        {
          "output_type": "stream",
          "name": "stdout",
          "text": [
            "John\n",
            "John\n"
          ]
        }
      ]
    },
    {
      "cell_type": "markdown",
      "source": [
        "**Explanation:**\n",
        "\n",
        "**Public Attribute (name)**: This attribute is declared without any underscore\n",
        " prefixes. It is accessible from anywhere, both inside and outside of the class.\n",
        "\n",
        "**Public Method (display_name)**: This method is also accessible from any part of the code. It directly accesses the public attribute and prints its value.\n",
        "\n",
        "**Object (obj)**: An instance of Public is created, and the display_name method is called, demonstrating how public attributes and methods can be accessed directly.\n",
        "\n",
        "Note: The __init__ method is a constructor and runs as soon as an object of a class is instantiated.  \n",
        "\n",
        "**d) Protected members**\n",
        "\n",
        "Protected members are identified with a single underscore (_). They are meant to be accessed only within the class or its subclasses.\n"
      ],
      "metadata": {
        "id": "fgP5uqhAG5af"
      }
    },
    {
      "cell_type": "code",
      "source": [
        "#Example:-\n",
        "class Protected:\n",
        "    def __init__(self):\n",
        "        self._age = 30  # Protected attribute\n",
        "\n",
        "class Subclass(Protected):\n",
        "    def display_age(self):\n",
        "        print(self._age)  # Accessible in subclass\n",
        "\n",
        "obj = Subclass()\n",
        "obj.display_age()"
      ],
      "metadata": {
        "colab": {
          "base_uri": "https://localhost:8080/"
        },
        "id": "zF0qdeEfGxSR",
        "outputId": "048152df-34f0-4816-a12f-c8a9fd5ce7fc"
      },
      "execution_count": 4,
      "outputs": [
        {
          "output_type": "stream",
          "name": "stdout",
          "text": [
            "30\n"
          ]
        }
      ]
    },
    {
      "cell_type": "markdown",
      "source": [
        "**Explanation:**\n",
        "\n",
        "**Protected Attribute (_age)**: This attribute is prefixed with a single underscore, which by convention, suggests that it should be treated as a\n",
        "protected member. It’s not enforced by Python but indicates that it should not\n",
        "be accessed outside of this class and its subclasses.\n",
        "\n",
        "**Subclass**: Here, a subclass inherits from Protected. Within this subclass, we\n",
        "can still access the protected attribute _age.\n",
        "\n",
        "**Method (display_age)**: This method within the subclass accesses the protected\n",
        "attribute and prints its value. This shows that protected members can be\n",
        "accessed within the class and its subclasses.\n",
        "\n",
        "**e) Private members**\n",
        "Private members are identified with a double underscore (__) and cannot be accessed directly from outside the class. Python uses name mangling to make private members inaccessible by renaming them internally.\n",
        "\n",
        "\n",
        "### **9.What is a constructor in Python?**\n",
        "**Ans.-**  \n",
        "## **Constructors in Python**\n",
        "In Python, a constructor is a special method that is called automatically when an object is created from a class. Its main role is to initialize the object by setting up its attributes or state.\n",
        "\n",
        "The method __new__ is the constructor that creates a new instance of the class while __init__ is the initializer that sets up the instance’s attributes after creation. These methods work together to manage object creation and initialization.\n",
        "\n",
        "##**__new_Method**\n",
        "This method is responsible for creating a new instance of a class. It allocates memory and returns the new object. It is called before __init__."
      ],
      "metadata": {
        "id": "BDTXtCL4Ht7f"
      }
    },
    {
      "cell_type": "code",
      "source": [
        "class ClassName:\n",
        "    def __new__(cls, parameters):\n",
        "        instance = super(ClassName, cls).__new__(cls)\n",
        "        return instance"
      ],
      "metadata": {
        "id": "KwP1kiWNJRem"
      },
      "execution_count": 5,
      "outputs": []
    },
    {
      "cell_type": "markdown",
      "source": [
        "##**__init_Method**\n",
        "\n",
        "This method initializes the newly created instance and is commonly used as a constructor in Python. It is called immediately after the object is created by __new__ method and is responsible for initializing attributes of the instance.\n"
      ],
      "metadata": {
        "id": "h2JT5YprJYOx"
      }
    },
    {
      "cell_type": "code",
      "source": [
        "#syntax\n",
        "\n",
        "class ClassName:\n",
        "    def __init__(self, parameters):\n",
        "        self.attribute = value"
      ],
      "metadata": {
        "id": "7_B6AdIbHm4a"
      },
      "execution_count": 6,
      "outputs": []
    },
    {
      "cell_type": "markdown",
      "source": [
        "### **10.What are class and static methods in Python?**\n",
        "\n",
        "**Ans.-Class Method in Python:-**\n",
        "\n",
        "  The @classmethod decorator is a built-in function decorator that is an expression that gets evaluated after your function is defined. The result of that evaluation shadows your function definition. A class method receives the class as an implicit first argument, just like an instance method receives the instance\n",
        "\n",
        "  syntax:-\n",
        "\n",
        "  class C(object):\n",
        "\n",
        "    @classmethod\n",
        "    def fun(cls, arg1, arg2, ...):\n",
        "  \n",
        "\n",
        "fun: function that needs to be converted into a class method.\n",
        "\n",
        "returns: a class method for function."
      ],
      "metadata": {
        "id": "8lw56SOlKWRg"
      }
    },
    {
      "cell_type": "markdown",
      "source": [
        "1) A class method is a method that is bound to the class and not the object of the class.\n",
        "\n",
        "2) They have the access to the state of the class as it takes a class parameter that points to the class and not the object instance.\n",
        "\n",
        "3) It can modify a class state that would apply across all the instances of the class. For example, it can modify a class variable that will be applicable to all the instances.\n",
        "\n",
        " **The Static Method in Python**\n",
        "\n",
        " A static method does not receive an implicit first argument. A static method is also a method that is bound to the class and not the object of the class. This method can’t access or modify the class state. It is present in a class because it makes sense for the method to be present in class.\n",
        "\n",
        " syntax:-\n",
        "\n",
        "    class C(object):\n",
        "\n",
        "    @staticmethod\n",
        "    def fun(arg1, arg2, ...):\n",
        "        \n",
        "returns: a static method for function fun.\n",
        "\n",
        "\n",
        "\n",
        "**Class method vs Static Method**\n",
        "\n",
        "The difference between the Class method and the static method is:\n",
        "\n",
        "A class method takes cls as the first parameter while a static method needs no specific parameters.\n",
        "\n",
        "A class method can access or modify the class state while a static method can’t access or modify it.\n",
        "\n",
        "In general, static methods know nothing about the class state.\n",
        "\n",
        "They are utility-type methods that take some parameters and work upon those parameters.\n",
        "\n",
        "On the other hand class methods must have class as a parameter.\n",
        "\n",
        "We use @classmethod decorator in python to create a class method and we use @staticmethod decorator to create a static method in python."
      ],
      "metadata": {
        "id": "ZVNcjRdqLZOa"
      }
    },
    {
      "cell_type": "code",
      "source": [
        "#class method\n",
        "\n",
        "class MyClass:\n",
        "    def __init__(self, value):\n",
        "        self.value = value\n",
        "\n",
        "    def get_value(self):\n",
        "        return self.value\n",
        "\n",
        "# Create an instance of MyClass\n",
        "obj = MyClass(10)\n",
        "\n",
        "# Call the get_value method on the instance\n",
        "print(obj.get_value())"
      ],
      "metadata": {
        "colab": {
          "base_uri": "https://localhost:8080/"
        },
        "id": "jhdfmgdoJpba",
        "outputId": "b3c19e66-8f32-4b7c-d144-8556d3f0aef8"
      },
      "execution_count": 7,
      "outputs": [
        {
          "output_type": "stream",
          "name": "stdout",
          "text": [
            "10\n"
          ]
        }
      ]
    },
    {
      "cell_type": "code",
      "source": [
        "#static method\n",
        "class MyClass:\n",
        "    def __init__(self, value):\n",
        "        self.value = value\n",
        "\n",
        "    @staticmethod\n",
        "    def get_max_value(x, y):\n",
        "        return max(x, y)\n",
        "\n",
        "# Create an instance of MyClass\n",
        "obj = MyClass(10)\n",
        "\n",
        "print(MyClass.get_max_value(20, 30))\n",
        "\n",
        "print(obj.get_max_value(20, 30))"
      ],
      "metadata": {
        "colab": {
          "base_uri": "https://localhost:8080/"
        },
        "id": "9hXNHXf4M87f",
        "outputId": "ef49f817-a412-4f14-aa1e-486f134c243d"
      },
      "execution_count": 8,
      "outputs": [
        {
          "output_type": "stream",
          "name": "stdout",
          "text": [
            "30\n",
            "30\n"
          ]
        }
      ]
    },
    {
      "cell_type": "markdown",
      "source": [
        "### **11. What is method overloading in Python?**\n",
        "\n",
        "**Ans.-Method Overloading:**\n",
        "\n",
        "Two or more methods have the same name but different numbers of parameters or different types of parameters, or both. These methods are called overloaded methods and this is called method overloading.\n",
        "\n"
      ],
      "metadata": {
        "id": "yXj48mz4NKKr"
      }
    },
    {
      "cell_type": "code",
      "source": [
        "# First product method.\n",
        "# Takes two argument and print their\n",
        "# product\n",
        "\n",
        "\n",
        "def product(a, b):\n",
        "    p = a * b\n",
        "    print(p)\n",
        "\n",
        "# Second product method\n",
        "# Takes three argument and print their\n",
        "# product\n",
        "\n",
        "\n",
        "def product(a, b, c):\n",
        "    p = a * b*c\n",
        "    print(p)\n",
        "\n",
        "# Uncommenting the below line shows an error\n",
        "# product(4, 5)\n",
        "\n",
        "\n",
        "# This line will call the second product method\n",
        "product(4, 5, 5)"
      ],
      "metadata": {
        "colab": {
          "base_uri": "https://localhost:8080/"
        },
        "id": "mdwprmFZNjAQ",
        "outputId": "d0fca697-f1b9-435f-ed61-0367be33a518"
      },
      "execution_count": 9,
      "outputs": [
        {
          "output_type": "stream",
          "name": "stdout",
          "text": [
            "100\n"
          ]
        }
      ]
    },
    {
      "cell_type": "markdown",
      "source": [
        "### **12. What is method overriding in OOP?**\n",
        "**Ans.-Method Overriding in Python**\n",
        "\n",
        "Method overriding is an ability of any object-oriented programming language that allows a subclass or child class to provide a specific implementation of a method that is already provided by one of its super-classes or parent classes. When a method in a subclass has the same name, the same parameters or signature, and same return type(or sub-type) as a method in its super-class, then the method in the subclass is said to override the method in the super-class.\n",
        "\n",
        "### **13. What is a property decorator in Python?**\n",
        "\n",
        "**Ans.-property decorator** is a built-in decorator in Python which is helpful in defining the properties effortlessly without manually calling the inbuilt function property(). Which is used to return the property attributes of a class from the stated getter, setter and deleter as parameters.\n",
        "\n"
      ],
      "metadata": {
        "id": "TCbpx6wHN5eX"
      }
    },
    {
      "cell_type": "code",
      "source": [
        "# Python program to illustrate the use of\n",
        "# @property decorator\n",
        "\n",
        "# Defining class\n",
        "class Portal:\n",
        "\n",
        "\t# Defining __init__ method\n",
        "\tdef __init__(self):\n",
        "\t\tself.__name =''\n",
        "\n",
        "\t# Using @property decorator\n",
        "\t@property\n",
        "\n",
        "\t# Getter method\n",
        "\tdef name(self):\n",
        "\t\treturn self.__name\n",
        "\n",
        "\t# Setter method\n",
        "\t@name.setter\n",
        "\tdef name(self, val):\n",
        "\t\tself.__name = val\n",
        "\n",
        "\t# Deleter method\n",
        "\t@name.deleter\n",
        "\tdef name(self):\n",
        "\tdel self.__name\n",
        "\n",
        "# Creating object\n",
        "p = Portal();\n",
        "\n",
        "# Setting name\n",
        "p.name = 'GeeksforGeeks'\n",
        "\n",
        "# Prints name\n",
        "print (p.name)\n",
        "\n",
        "# Deletes name\n",
        "del p.name\n",
        "\n",
        "# As name is deleted above this\n",
        "# will throw an error\n",
        "print (p.name)\n"
      ],
      "metadata": {
        "colab": {
          "base_uri": "https://localhost:8080/",
          "height": 106
        },
        "id": "67QKuL6aNC6m",
        "outputId": "bcc68456-2e5e-4565-d03f-b1204215a3cb"
      },
      "execution_count": 10,
      "outputs": [
        {
          "output_type": "error",
          "ename": "IndentationError",
          "evalue": "expected an indented block after function definition on line 25 (<ipython-input-10-d2a5fd6a5aad>, line 26)",
          "traceback": [
            "\u001b[0;36m  File \u001b[0;32m\"<ipython-input-10-d2a5fd6a5aad>\"\u001b[0;36m, line \u001b[0;32m26\u001b[0m\n\u001b[0;31m    del self.__name\u001b[0m\n\u001b[0m    ^\u001b[0m\n\u001b[0;31mIndentationError\u001b[0m\u001b[0;31m:\u001b[0m expected an indented block after function definition on line 25\n"
          ]
        }
      ]
    },
    {
      "cell_type": "markdown",
      "source": [
        "### **14. Why is polymorphism important in OOP?**\n",
        "**Ans.-Polymorphism** is crucial in Object-Oriented Programming (OOP) because it enables objects of different classes to be treated as objects of a common type, promoting code reusability, flexibility, and maintainability. It allows for a single interface to be used for different operations, while each class can implement it in its own specific way.\n",
        "\n",
        "Here's a more detailed explanation:\n",
        "\n",
        "**1.Code Reusability and Extensibility:**\n",
        "\n",
        "Polymorphism allows you to write generic code that works with objects of different types, reducing redundancy and promoting code reuse.\n",
        "You can add new subclasses without needing to modify existing code, making the system more extensible.\n",
        "\n",
        "**2.Flexibility and Maintainability:**\n",
        "\n",
        "Polymorphism enables dynamic method dispatch, where the method to be executed is determined at runtime, providing flexibility in method execution and object interaction.\n",
        "It allows for cleaner and more maintainable code by reducing coupling between different functionalities.\n",
        "\n",
        "**3.Enhanced Code Organization:**\n",
        "\n",
        "Polymorphism allows you to focus on a parent class or interface, rather than managing numerous special cases, leading to a more organized codebase.\n",
        "It simplifies debugging by providing a clear understanding of how different objects interact with each other.\n",
        "\n",
        "**4.Foundation of True Object-Orientedness:**\n",
        "\n",
        "Languages that lack polymorphism are considered object-based rather than fully object-oriented.\n",
        "Polymorphism is a fundamental aspect of the OOP paradigm.\n",
        "\n",
        "**5.Example:**\n",
        "\n",
        "Imagine a Shape class with subclasses like Rectangle and Circle. A draw() method in the Shape class could be overridden in each subclass to implement different drawing logic. A single draw() call on an instance of any subclass (Rectangle or Circle) would execute the appropriate implementation, demonstrating polymorphism in action.\n",
        "\n",
        "###**15.What is an abstract class in Python?**\n",
        "**Ans.-Abstract Classes in Python**\n",
        "\n",
        "In Python, an abstract class is a class that cannot be instantiated on its own\n",
        " and is designed to be a blueprint for other classes. Abstract classes allow us\n",
        "to define methods that must be implemented by subclasses, ensuring a consistent interface while still allowing the subclasses to provide specific implementations.\n",
        "\n",
        "The main components of an abstract class are:\n",
        "\n",
        "**Table of Content**\n",
        "\n",
        "1.Abstract Base Classes in Python\n",
        "\n",
        "2.Abstract Methods\n",
        "\n",
        "3.Concrete Methods\n",
        "\n",
        "4.Abstract Properties\n",
        "\n",
        "5.Abstract Class Instantiation\n",
        "\n",
        "**1.Abstract Methods**\n",
        "\n",
        "Abstract methods are methods that are defined in an abstract class but do not have an implementation. They serve as a blueprint for the subclasses, ensuring that they provide their own implementation.\n",
        "\n",
        "**2.Concrete Methods**\n",
        "\n",
        "Concrete methods are methods that have full implementations in an abstract class. These methods can be inherited by subclasses and used directly without needing to be redefined.\n",
        "\n",
        "**3.Abstract Properties**\n",
        "\n",
        "Abstract properties work like abstract methods but are used for properties. These properties are declared with the @property decorator and marked as abstract using @abstractmethod. Subclasses must implement these properties.\n",
        "\n",
        "**4.Abstract Class Instantiation**\n",
        "\n",
        "Abstract classes cannot be instantiated directly. This is because they contain one or more abstract methods or properties that lack implementations. Attempting to instantiate an abstract class results in a TypeError.\n",
        "\n",
        "###**16. What are the advantages of OOP?**\n",
        "**Ans.-Key Advantages of OOP:**\n",
        "\n",
        "**Modularity and Organization:-**\n",
        "OOP allows developers to structure their code into reusable components (classes and objects), making it easier to understand, debug, and maintain.\n",
        "\n",
        "**Code Reusability:-**\n",
        "Inheritance enables developers to reuse existing code by creating new objects (subclasses) that inherit properties and behaviors from parent classes, reducing redundancy and development time.\n",
        "\n",
        "**Encapsulation:-**\n",
        "OOP promotes data hiding by encapsulating data and methods within objects, improving security and making the code more robust.\n",
        "\n",
        "**Flexibility and Adaptability:-**\n",
        "Polymorphism allows objects to adapt to different situations, making the code more flexible and adaptable to changing requirements.\n",
        "\n",
        "**Enhanced Debugging and Troubleshooting:-**\n",
        "By isolating code into modules and objects, OOP simplifies debugging and troubleshooting by allowing developers to pinpoint errors more easily.\n",
        "\n",
        "**Scalability:-**\n",
        "OOP allows for easier scaling of programs as they grow by adding new objects and classes without disrupting existing functionality.\n",
        "\n",
        "**Improved Maintainability:-**\n",
        "OOP's modular structure and code reusability make it easier to maintain and update existing code.\n",
        "\n",
        "**Abstraction:-**\n",
        "OOP enables developers to hide complex implementation details, providing a simplified interface for user\n",
        "\n",
        "###**17. What is the difference between a class variable and an instance variable?**\n",
        "Ans.-Difference between Instance Variable and Class Variable\n",
        "\n",
        "**Instance Variable:**\n",
        " It is basically a class variable without a static modifier and is usually shared by all class instances. Across different objects, these variables can have different values. They are tied to a particular object instance of the class, therefore, the contents of an instance variable are totally independent of one object instance to others.\n",
        "\n",
        "Example:\n",
        "\n",
        "class Taxes  \n",
        "{  \n",
        "   int count;  \n",
        "   /*...*/  \n",
        "}\n",
        "\n",
        "**Class Variable:**\n",
        " It is basically a static variable that can be declared anywhere at class level with static. Across different objects, these variables can have only one value. These variables are not tied to any particular object of the class, therefore, can share across all objects of the class.  \n",
        "\n",
        "Example:\n",
        "\n",
        "class Taxes  \n",
        "{  \n",
        "   static int count;  \n",
        "   /*...*/  \n",
        "}\n",
        "\n",
        "###**18.What is multiple inheritance in Python?**\n",
        "\n",
        "**Ans.-Multiple Inheritance in Python**\n",
        "\n",
        "Inheritance is the mechanism to achieve the re-usability of code as one class(child class) can derive the properties of another class(parent class). It also provides transitivity ie. if class C inherits from P then all the sub-classes of C would also inherit from P.\n",
        "\n",
        "###**19.Explain the purpose of ‘’__str__’ and ‘__repr__’ ‘ methods in Python.**\n",
        "**Ans.-**In Python, the __str__ and __repr__ methods are special methods used to define how objects are represented as strings. They are essential for providing clear and informative output when working with custom classes.\n",
        "\n",
        "__str__:\n",
        "\n",
        "This method returns a user-friendly, informal string representation of an object. It's intended to be easily readable for end users and is called when using the str() function or the print() function on an object. If __str__ is not defined, Python falls back to using __repr__.\n",
        "\n",
        "__repr__:\n",
        "\n",
        "This method returns a more detailed, unambiguous string representation of an object, primarily for developers and debugging. Ideally, it should return a string that, when passed to eval(), would recreate the object. It is called when using the repr() function or when an object is displayed in the interactive interprete.\n",
        "\n"
      ],
      "metadata": {
        "id": "uCCw1AALPPy-"
      }
    },
    {
      "cell_type": "code",
      "source": [
        "class MyClass:\n",
        "    def __init__(self, name, value):\n",
        "        self.name = name\n",
        "        self.value = value\n",
        "\n",
        "    def __str__(self):\n",
        "        return f\"MyClass(name='{self.name}', value={self.value})\"\n",
        "\n",
        "    def __repr__(self):\n",
        "        return f\"MyClass('{self.name}', {self.value})\"\n",
        "\n",
        "obj = MyClass(\"example\", 10)\n",
        "\n",
        "print(str(obj))  # Output: MyClass(name='example', value=10)\n",
        "print(repr(obj)) # Output: MyClass('example', 10)"
      ],
      "metadata": {
        "colab": {
          "base_uri": "https://localhost:8080/"
        },
        "id": "zhDoR9bGXLJv",
        "outputId": "c98e66a7-53bd-4c3d-f4eb-fad3d123b8e3"
      },
      "execution_count": 11,
      "outputs": [
        {
          "output_type": "stream",
          "name": "stdout",
          "text": [
            "MyClass(name='example', value=10)\n",
            "MyClass('example', 10)\n"
          ]
        }
      ]
    },
    {
      "cell_type": "markdown",
      "source": [
        "###**20.What is the significance of the ‘super()’ function in Python?**\n",
        "**Ans.-Python super()**\n",
        "\n",
        "In Python, the super() function is used to refer to the parent class or superclass. It allows you to call methods defined in the superclass from the subclass, enabling you to extend and customize the functionality inherited from the parent class.\n",
        "\n",
        "### **Syntax of super() in Python**\n",
        "\n",
        "**Syntax**: super()\n",
        "\n",
        "**Return** : Return a proxy object which represents the parent’s class.\n",
        "\n",
        "**super() function in Python Example**\n",
        "\n",
        "In the given example, The Emp class has an __init__ method that initializes the id, and name and Adds attributes. The Freelance class inherits from the Emp class and adds an additional attribute called Emails. It calls the parent class’s __init__ method super() to initialize the inherited attribute.\n",
        "\n",
        "\n",
        "\n"
      ],
      "metadata": {
        "id": "5K8xWkdmXN3k"
      }
    },
    {
      "cell_type": "code",
      "source": [
        "class Emp():\n",
        "    def __init__(self, id, name, Add):\n",
        "        self.id = id\n",
        "        self.name = name\n",
        "        self.Add = Add\n",
        "\n",
        "# Class freelancer inherits EMP\n",
        "class Freelance(Emp):\n",
        "    def __init__(self, id, name, Add, Emails):\n",
        "        super().__init__(id, name, Add)\n",
        "        self.Emails = Emails\n",
        "\n",
        "Emp_1 = Freelance(103, \"priya saroj\", \"Noida\" , \"abc@gmails\")\n",
        "print('The ID is:', Emp_1.id)\n",
        "print('The Name is:', Emp_1.name)\n",
        "print('The Address is:', Emp_1.Add)\n",
        "print('The Emails is:', Emp_1.Emails)"
      ],
      "metadata": {
        "colab": {
          "base_uri": "https://localhost:8080/"
        },
        "id": "SVOPZpBUYIe_",
        "outputId": "602fe38e-01e0-49eb-bfc8-3c4d5e09f754"
      },
      "execution_count": 13,
      "outputs": [
        {
          "output_type": "stream",
          "name": "stdout",
          "text": [
            "The ID is: 103\n",
            "The Name is: priya saroj\n",
            "The Address is: Noida\n",
            "The Emails is: abc@gmails\n"
          ]
        }
      ]
    },
    {
      "cell_type": "markdown",
      "source": [
        "### **21. What is the significance of the __del__ method in Python?**\n",
        "**Ans.**-The __del__ method in Python, also known as a destructor, is called when an object is garbage collected, immediately before it is destroyed. It provides an opportunity to clean up resources held by the object, such as closing files or releasing external connections. However, relying on __del__ for resource management is generally discouraged due to its unpredictable timing and potential for errors.\n",
        "\n",
        "The del statement in Python decreases the reference count of an object, and when the reference count reaches zero, the object becomes eligible for garbage collection. The __del__ method is then called by the garbage collector before the object's memory is reclaimed.\n",
        "\n",
        "It's important to note that the timing of garbage collection is not guaranteed and depends on the Python interpreter's implementation and memory management strategies. Therefore, __del__ should not be used for critical operations that require timely execution.\n",
        "\n",
        "Instead of __del__, it's recommended to use context managers (with statement) or explicit cleanup methods for resource management. Context managers ensure that resources are properly acquired and released, even in the presence of exceptions.\n",
        "\n",
        "###**22.What is the difference between @staticmethod and @classmethod in Python?**\n",
        "**Ans.-Class method:-**\n",
        "\n",
        " The @classmethod decorator is a built-in function decorator that is an expression that gets evaluated after your function is defined. The result of that evaluation shadows your function definition. A class method receives the class as an implicit first argument, just like an instance method receives the instance\n",
        "\n",
        "**Syntax Python Class Method:**\n",
        "\n",
        "     class C(object):\n",
        "      @classmethod\n",
        "      def fun(cls, arg1, arg2, ...):\n",
        "       ....\n",
        "**fun:**function that needs to be converted into a class method\n",
        "returns: a class method for function.\n",
        "\n",
        "1-A class method is a method that is bound to the class and not the object of the class.\n",
        "\n",
        "2-They have the access to the state of the class as it takes a class parameter that points to the class and not the object instance.\n",
        "\n",
        "3-It can modify a class state that would apply across all the instances of the class. For example, it can modify a class variable that will be applicable to all the instances.\n",
        "\n",
        " **Static Method in Python**\n",
        "\n",
        "A static method does not receive an implicit first argument. A static method is also a method that is bound to the class and not the object of the class. This method can’t access or modify the class state. It is present in a class because it makes sense for the method to be present in class.\n",
        "\n",
        "**Syntax Python Static Method:**\n",
        "\n",
        "     class C(object):\n",
        "      @staticmethod\n",
        "      def fun(arg1, arg2, ...):\n",
        "        ...\n",
        "**returns:** a static method for function fun.\n",
        "\n",
        "\n",
        "###**Class method vs Static Method**\n",
        "\n",
        "The difference between the Class method and the static method is:\n",
        "\n",
        "1-A class method takes cls as the first parameter while a static method needs no specific parameters.\n",
        "\n",
        "2-A class method can access or modify the class state while a static method can’t access or modify it.\n",
        "\n",
        "3-In general, static methods know nothing about the class state. They are utility-type methods that take some parameters and work upon those parameters.\n",
        "\n",
        "4-On the other hand class methods must have class as a parameter.\n",
        "\n",
        "###**23.How does polymorphism work in Python with inheritance?**\n",
        "**Ans.-**\n",
        "###**Polymorphism in Python**\n",
        "\n",
        "Polymorphism is a foundational concept in programming that allows entities like functions, methods or operators to behave differently based on the type of data they are handling. Derived from Greek, the term literally means “many forms”.\n",
        "\n",
        "Python’s dynamic typing and duck typing make it inherently polymorphic. Functions, operators and even built-in objects like loops exhibit polymorphic behavior.\n",
        "\n",
        "\n",
        "\n",
        "\n",
        "\n",
        "\n"
      ],
      "metadata": {
        "id": "caCn4AibYVdY"
      }
    },
    {
      "cell_type": "code",
      "source": [
        "print(len(\"Hello\"))  # String length\n",
        "print(len([1, 2, 3]))  # List length\n",
        "\n",
        "print(max(1, 3, 2))  # Maximum of integers\n",
        "print(max(\"a\", \"z\", \"m\"))  # Maximum in strings"
      ],
      "metadata": {
        "colab": {
          "base_uri": "https://localhost:8080/"
        },
        "id": "WVFGRvg0YJfQ",
        "outputId": "15b371d9-a1f0-461e-fcb5-1076944028bd"
      },
      "execution_count": 14,
      "outputs": [
        {
          "output_type": "stream",
          "name": "stdout",
          "text": [
            "5\n",
            "3\n",
            "3\n",
            "z\n"
          ]
        }
      ]
    },
    {
      "cell_type": "markdown",
      "source": [
        "### **24.What is method chaining in Python OOP?**\n",
        "**Ans.-Method Chaining in Python**\n",
        "\n",
        "Method chaining is a powerful technique in Python programming that allows us to call multiple methods on an object in a single, continuous line of code. This approach makes the code cleaner, more readable, and often easier to maintain. It is frequently used in data processing, object-oriented programming, and frameworks such as Pandas, Django ORM, and Flask.\n",
        "\n"
      ],
      "metadata": {
        "id": "13J9gy4XbTL6"
      }
    },
    {
      "cell_type": "code",
      "source": [
        "#Example\n",
        "text = \" hello, gfg! \"\n",
        "result = text.strip().capitalize().replace(\"gfg\", \"world\")\n",
        "print(result)"
      ],
      "metadata": {
        "colab": {
          "base_uri": "https://localhost:8080/"
        },
        "id": "96SES6idbQC9",
        "outputId": "c27d4dd5-5ee3-42c6-c913-f5af898c1642"
      },
      "execution_count": 16,
      "outputs": [
        {
          "output_type": "stream",
          "name": "stdout",
          "text": [
            "Hello, world!\n"
          ]
        }
      ]
    },
    {
      "cell_type": "markdown",
      "source": [
        "### **25. What is the purpose of the __call__ method in Python?**\n",
        "**Ans.-**Python has a set of built-in methods and __call__ is one of them. The __call__ method enables Python programmers to write classes where the instances behave like functions and can be called like a function. When this method is defined, calling an object (obj(arg1, arg2)) automatically triggers obj.__call__(arg1, arg2). This makes objects behave like functions, enabling more flexible and reusable code.\n",
        "\n",
        "**Syntax:**\n",
        "\n",
        "     class Example:\n",
        "      def __init__(self):\n",
        "        # code\n",
        "\n",
        "     # Defining __call__ method\n",
        "     def __call__(self):\n",
        "        # code\n",
        "\n",
        "\n",
        "def __call__(self): defines a method that can be called as a function directly from the instance of the class Example.\n",
        "\n",
        "Examples of __call__\n",
        "\n",
        "Let’s understand the implementation of __call__ in Python with the help of some code examples."
      ],
      "metadata": {
        "id": "hB6POeAFcBgf"
      }
    },
    {
      "cell_type": "code",
      "source": [
        "#Example\n",
        "class Gfg:\n",
        "    def __init__(self):\n",
        "        print(\"Instance Created\")\n",
        "\n",
        "    # Defining __call__ method\n",
        "    def __call__(self):\n",
        "        print(\"Instance is called via special method\")\n",
        "\n",
        "# Instance created\n",
        "e = Gfg()\n",
        "\n",
        "# __call__ method will be called\n",
        "e()"
      ],
      "metadata": {
        "colab": {
          "base_uri": "https://localhost:8080/"
        },
        "id": "bTByJUgdb6MQ",
        "outputId": "bc476100-f6b1-487e-d2ee-a06950b56bf9"
      },
      "execution_count": 17,
      "outputs": [
        {
          "output_type": "stream",
          "name": "stdout",
          "text": [
            "Instance Created\n",
            "Instance is called via special method\n"
          ]
        }
      ]
    },
    {
      "cell_type": "markdown",
      "source": [
        "# **PRACTICAL QUESTIONS**\n",
        "### **1.Create a parent class Animal with a method speak() that prints a generic message. Create a child class Dog that overrides the speak() method to print \"Bark!\".**\n",
        "**Ans.-**"
      ],
      "metadata": {
        "id": "FAabSNeJdTAc"
      }
    },
    {
      "cell_type": "code",
      "source": [
        "# Parent class\n",
        "class Animal:\n",
        "    def speak(self):\n",
        "        print(\"Some generic animal sound.\")\n",
        "\n",
        "# Child class\n",
        "class Dog(Animal):\n",
        "    def speak(self):\n",
        "        print(\"Bark!\")\n",
        "\n",
        "# Create an instance of Dog\n",
        "my_dog = Dog()\n",
        "\n",
        "# Call the speak method\n",
        "my_dog.speak()\n"
      ],
      "metadata": {
        "colab": {
          "base_uri": "https://localhost:8080/"
        },
        "id": "_Qdb44VFc-9c",
        "outputId": "bc45ac1a-b1f9-4d23-f085-6fb5315de198"
      },
      "execution_count": 18,
      "outputs": [
        {
          "output_type": "stream",
          "name": "stdout",
          "text": [
            "Bark!\n"
          ]
        }
      ]
    },
    {
      "cell_type": "markdown",
      "source": [
        "### **2. Write a program to create an abstract class Shape with a method area(). Derive classes Circle and Rectangle from it and implement the area() method in both.**\n",
        "**Ans.-**"
      ],
      "metadata": {
        "id": "p8meeikVeWD6"
      }
    },
    {
      "cell_type": "code",
      "source": [
        "from abc import ABC, abstractmethod\n",
        "import math\n",
        "\n",
        "# Abstract base class\n",
        "class Shape(ABC):\n",
        "    @abstractmethod\n",
        "    def area(self):\n",
        "        pass\n",
        "\n",
        "# Derived class for Circle\n",
        "class Circle(Shape):\n",
        "    def __init__(self, radius):\n",
        "        self.radius = radius\n",
        "\n",
        "    def area(self):\n",
        "        return math.pi * self.radius ** 2\n",
        "\n",
        "# Derived class for Rectangle\n",
        "class Rectangle(Shape):\n",
        "    def __init__(self, width, height):\n",
        "        self.width = width\n",
        "        self.height = height\n",
        "\n",
        "    def area(self):\n",
        "        return self.width * self.height\n",
        "\n",
        "# Example usage\n",
        "circle = Circle(5)\n",
        "rectangle = Rectangle(4, 6)\n",
        "\n",
        "print(f\"Circle Area: {circle.area():.2f}\")\n",
        "print(f\"Rectangle Area: {rectangle.area():.2f}\")\n"
      ],
      "metadata": {
        "colab": {
          "base_uri": "https://localhost:8080/"
        },
        "id": "wR59PMKdeUzP",
        "outputId": "07ee19ff-463e-4413-eaf8-1f748eef762d"
      },
      "execution_count": 19,
      "outputs": [
        {
          "output_type": "stream",
          "name": "stdout",
          "text": [
            "Circle Area: 78.54\n",
            "Rectangle Area: 24.00\n"
          ]
        }
      ]
    },
    {
      "cell_type": "markdown",
      "source": [
        "### **3. Implement a multi-level inheritance scenario where a class Vehicle has an attribute type. Derive a class Car and further derive a class ElectricCar that adds a battery attribute.**\n",
        "**Ans.-Vehicle** is the base class with an attribute type.\n",
        "\n",
        "**Car** is a subclass of Vehicle with an additional attribute model.\n",
        "\n",
        "**ElectricCar** is a subclass of Car that adds a battery_capacity attribute.\n",
        "\n",
        "\n",
        "\n"
      ],
      "metadata": {
        "id": "LPCrYxVpe0dY"
      }
    },
    {
      "cell_type": "code",
      "source": [
        "class Vehicle:\n",
        "    def __init__(self, vehicle_type):\n",
        "        self.vehicle_type = vehicle_type\n",
        "\n",
        "    def display_type(self):\n",
        "        print(f\"Vehicle Type: {self.vehicle_type}\")\n",
        "\n",
        "class Car(Vehicle):\n",
        "    def __init__(self, vehicle_type, model):\n",
        "        super().__init__(vehicle_type)\n",
        "        self.model = model\n",
        "\n",
        "    def display_info(self):\n",
        "        self.display_type()\n",
        "        print(f\"Car Model: {self.model}\")\n",
        "\n",
        "class ElectricCar(Car):\n",
        "    def __init__(self, vehicle_type, model, battery_capacity):\n",
        "        super().__init__(vehicle_type, model)\n",
        "        self.battery_capacity = battery_capacity\n",
        "\n",
        "    def display_battery(self):\n",
        "        self.display_info()\n",
        "        print(f\"Battery Capacity: {self.battery_capacity} kWh\")\n",
        "\n",
        "# Example usage\n",
        "my_electric_car = ElectricCar(\"Electric\", \"Tesla Model S\", 100)\n",
        "my_electric_car.display_battery()\n"
      ],
      "metadata": {
        "colab": {
          "base_uri": "https://localhost:8080/"
        },
        "id": "g82FVIJFfVB1",
        "outputId": "59ed77d5-53a4-4601-8667-3cf648318fe3"
      },
      "execution_count": 20,
      "outputs": [
        {
          "output_type": "stream",
          "name": "stdout",
          "text": [
            "Vehicle Type: Electric\n",
            "Car Model: Tesla Model S\n",
            "Battery Capacity: 100 kWh\n"
          ]
        }
      ]
    },
    {
      "cell_type": "markdown",
      "source": [
        "### **4. Demonstrate polymorphism by creating a base class Bird with a method fly(). Create two derived classes Sparrow and Penguin that override the fly() method.**\n",
        "**Ans.-**\n"
      ],
      "metadata": {
        "id": "0ujCfMo3faYE"
      }
    },
    {
      "cell_type": "code",
      "source": [
        "# Base class\n",
        "class Bird:\n",
        "    def fly(self):\n",
        "        print(\"Bird is flying\")\n",
        "\n",
        "# Derived class Sparrow\n",
        "class Sparrow(Bird):\n",
        "    def fly(self):\n",
        "        print(\"Sparrow is flying\")\n",
        "\n",
        "# Derived class Penguin\n",
        "class Penguin(Bird):\n",
        "    def fly(self):\n",
        "        print(\"Penguin cannot fly\")\n",
        "\n",
        "# Demonstrating polymorphism\n",
        "def demonstrate_flight(bird):\n",
        "    bird.fly()\n",
        "\n",
        "# Creating instances\n",
        "sparrow = Sparrow()\n",
        "penguin = Penguin()\n",
        "\n",
        "# Passing instances to the function\n",
        "demonstrate_flight(sparrow)\n",
        "demonstrate_flight(penguin)\n"
      ],
      "metadata": {
        "colab": {
          "base_uri": "https://localhost:8080/"
        },
        "id": "zV4v558Net3a",
        "outputId": "1242e131-c989-4dbc-b2b6-70a8199d49eb"
      },
      "execution_count": 21,
      "outputs": [
        {
          "output_type": "stream",
          "name": "stdout",
          "text": [
            "Sparrow is flying\n",
            "Penguin cannot fly\n"
          ]
        }
      ]
    },
    {
      "cell_type": "markdown",
      "source": [
        "### **5. Write a program to demonstrate encapsulation by creating a class BankAccount with private attributes balance and methods to deposit, withdraw, and check balance.**\n",
        "**Ans.-**"
      ],
      "metadata": {
        "id": "sbgl0RCEf2jN"
      }
    },
    {
      "cell_type": "code",
      "source": [
        "class BankAccount:\n",
        "    def __init__(self, owner, initial_balance=0):\n",
        "        self.__owner = owner\n",
        "        self.__balance = initial_balance\n",
        "\n",
        "    def deposit(self, amount):\n",
        "        if amount > 0:\n",
        "            self.__balance += amount\n",
        "            print(f\"{amount} deposited. New balance: {self.__balance}\")\n",
        "        else:\n",
        "            print(\"Deposit amount must be positive.\")\n",
        "\n",
        "    def withdraw(self, amount):\n",
        "        if 0 < amount <= self.__balance:\n",
        "            self.__balance -= amount\n",
        "            print(f\"{amount} withdrawn. New balance: {self.__balance}\")\n",
        "        else:\n",
        "            print(\"Invalid withdrawal amount or insufficient funds.\")\n",
        "\n",
        "    def get_balance(self):\n",
        "        return self.__balance\n",
        "\n",
        "    def get_owner(self):\n",
        "        return self.__owner\n",
        "\n",
        "# Example usage\n",
        "account = BankAccount(\"John Doe\", 1000)\n",
        "print(f\"Account holder: {account.get_owner()}\")\n",
        "print(f\"Initial balance: {account.get_balance()}\")\n",
        "\n",
        "account.deposit(500)\n",
        "account.withdraw(200)\n",
        "print(f\"Final balance: {account.get_balance()}\")\n"
      ],
      "metadata": {
        "colab": {
          "base_uri": "https://localhost:8080/"
        },
        "id": "QcDdvPC1fymk",
        "outputId": "be124e79-1abf-4f0e-a61f-9e5c425608ab"
      },
      "execution_count": 22,
      "outputs": [
        {
          "output_type": "stream",
          "name": "stdout",
          "text": [
            "Account holder: John Doe\n",
            "Initial balance: 1000\n",
            "500 deposited. New balance: 1500\n",
            "200 withdrawn. New balance: 1300\n",
            "Final balance: 1300\n"
          ]
        }
      ]
    },
    {
      "cell_type": "markdown",
      "source": [
        "### **6. Demonstrate runtime polymorphism using a method play() in a base class Instrument. Derive classes Guitar and Piano that implement their own version of play().**\n",
        "**Ans.-**"
      ],
      "metadata": {
        "id": "emegwKicgO-2"
      }
    },
    {
      "cell_type": "code",
      "source": [
        "# Base class\n",
        "class Instrument:\n",
        "    def play(self):\n",
        "        print(\"Playing a generic instrument\")\n",
        "\n",
        "# Derived class Guitar\n",
        "class Guitar(Instrument):\n",
        "    def play(self):\n",
        "        print(\"Strumming the guitar\")\n",
        "\n",
        "# Derived class Piano\n",
        "class Piano(Instrument):\n",
        "    def play(self):\n",
        "        print(\"Playing the piano\")\n",
        "\n",
        "# Demonstrating runtime polymorphism\n",
        "def perform_play(instrument):\n",
        "    instrument.play()\n",
        "\n",
        "# Creating instances\n",
        "guitar = Guitar()\n",
        "piano = Piano()\n",
        "\n",
        "# Passing instances to the function\n",
        "perform_play(guitar)\n",
        "perform_play(piano)\n"
      ],
      "metadata": {
        "colab": {
          "base_uri": "https://localhost:8080/"
        },
        "id": "qbUx2F7kgLRq",
        "outputId": "c04e05d3-75b8-4612-d8a9-0991cc24b907"
      },
      "execution_count": 23,
      "outputs": [
        {
          "output_type": "stream",
          "name": "stdout",
          "text": [
            "Strumming the guitar\n",
            "Playing the piano\n"
          ]
        }
      ]
    },
    {
      "cell_type": "markdown",
      "source": [
        "### **7.Create a class MathOperations with a class method add_numbers() to add two numbers and a static method subtract_numbers() to subtract two numbers.**\n",
        "**Ans.-**"
      ],
      "metadata": {
        "id": "8VWE_uTigxzT"
      }
    },
    {
      "cell_type": "code",
      "source": [
        "class MathOperations:\n",
        "    @classmethod\n",
        "    def add_numbers(cls, a, b):\n",
        "        return a + b\n",
        "\n",
        "    @staticmethod\n",
        "    def subtract_numbers(a, b):\n",
        "        return a - b\n",
        "\n",
        "# Example usage:\n",
        "print(\"Addition:\", MathOperations.add_numbers(10, 5))\n",
        "print(\"Subtraction:\", MathOperations.subtract_numbers(10, 5))\n"
      ],
      "metadata": {
        "colab": {
          "base_uri": "https://localhost:8080/"
        },
        "id": "twylDQyAg8wW",
        "outputId": "02e53cfd-be6c-4dcb-8c0d-8be087564c84"
      },
      "execution_count": 24,
      "outputs": [
        {
          "output_type": "stream",
          "name": "stdout",
          "text": [
            "Addition: 15\n",
            "Subtraction: 5\n"
          ]
        }
      ]
    },
    {
      "cell_type": "markdown",
      "source": [
        "### **8. Implement a class Person with a class method to count the total number of persons created.**\n",
        "**Ans.-**"
      ],
      "metadata": {
        "id": "qC3wH657hrsB"
      }
    },
    {
      "cell_type": "code",
      "source": [
        "class Person:\n",
        "    count = 0  # Class variable to keep track of the number of persons\n",
        "\n",
        "    def __init__(self, name):\n",
        "        self.name = name\n",
        "        Person.count += 1\n",
        "\n",
        "    @classmethod\n",
        "    def get_person_count(cls):\n",
        "        return cls.count\n",
        "\n",
        "# Example usage:\n",
        "p1 = Person(\"golu\")\n",
        "p2 = Person(\"priya\")\n",
        "\n",
        "print(\"Total persons created:\", Person.get_person_count())\n"
      ],
      "metadata": {
        "colab": {
          "base_uri": "https://localhost:8080/"
        },
        "id": "W14Txg2jhp8e",
        "outputId": "4948e2df-091a-4f28-ac2e-4ce2d5bbc0b9"
      },
      "execution_count": 26,
      "outputs": [
        {
          "output_type": "stream",
          "name": "stdout",
          "text": [
            "Total persons created: 2\n"
          ]
        }
      ]
    },
    {
      "cell_type": "markdown",
      "source": [
        "### **9.Write a class Fraction with attributes numerator and denominator. Override the str method to display the fraction as \"numerator/denominator\".**\n",
        "**Ans.-**\n"
      ],
      "metadata": {
        "id": "EmfFOWJZiNQm"
      }
    },
    {
      "cell_type": "code",
      "source": [
        "class Fraction:\n",
        "    def __init__(self, numerator, denominator):\n",
        "        self.numerator = numerator\n",
        "        self.denominator = denominator\n",
        "\n",
        "    def __str__(self):\n",
        "        return f\"{self.numerator}/{self.denominator}\"\n",
        "\n",
        "# Example usage:\n",
        "f1 = Fraction(3, 4)\n",
        "print(f1)\n"
      ],
      "metadata": {
        "colab": {
          "base_uri": "https://localhost:8080/"
        },
        "id": "MowMte7_iGfP",
        "outputId": "2d3eb523-9c00-4ff0-eeed-c07fb137af75"
      },
      "execution_count": 27,
      "outputs": [
        {
          "output_type": "stream",
          "name": "stdout",
          "text": [
            "3/4\n"
          ]
        }
      ]
    },
    {
      "cell_type": "markdown",
      "source": [
        "### **10. Demonstrate operator overloading by creating a class Vector and overriding the add method to add two vectors.**\n",
        "**Ans.-**"
      ],
      "metadata": {
        "id": "qWKMca0CjGFk"
      }
    },
    {
      "cell_type": "code",
      "source": [
        "class Vector:\n",
        "    def __init__(self, x, y):\n",
        "        self.x = x\n",
        "        self.y = y\n",
        "\n",
        "    def __add__(self, other):\n",
        "        return Vector(self.x + other.x, self.y + other.y)\n",
        "\n",
        "    def __str__(self):\n",
        "        return f\"Vector({self.x}, {self.y})\"\n",
        "\n",
        "# Example usage:\n",
        "v1 = Vector(2, 3)\n",
        "v2 = Vector(4, 5)\n",
        "v3 = v1 + v2  # This uses the overloaded + operator\n",
        "print(v3)\n"
      ],
      "metadata": {
        "colab": {
          "base_uri": "https://localhost:8080/"
        },
        "id": "Ja_8J-VZjE1_",
        "outputId": "18878b14-fcba-4d2d-f56e-12af418e8995"
      },
      "execution_count": 28,
      "outputs": [
        {
          "output_type": "stream",
          "name": "stdout",
          "text": [
            "Vector(6, 8)\n"
          ]
        }
      ]
    },
    {
      "cell_type": "markdown",
      "source": [
        "### **11. Create a class Person with attributes name and age. Add a method greet() that prints \"Hello, my name is {name} and I am {age} years old.\"**\n",
        "**Ans.-**"
      ],
      "metadata": {
        "id": "9joa1d7PjjDr"
      }
    },
    {
      "cell_type": "code",
      "source": [
        "class Person:\n",
        "    def __init__(self, name, age):\n",
        "        self.name = name\n",
        "        self.age = age\n",
        "\n",
        "    def greet(self):\n",
        "        print(f\"Hello, my name is {self.name} and I am {self.age} years old.\")\n",
        "\n",
        "# Example usage:\n",
        "p1 = Person(\"Priya\", 30)\n",
        "p1.greet()\n"
      ],
      "metadata": {
        "colab": {
          "base_uri": "https://localhost:8080/"
        },
        "id": "SFTfxOXej5Dj",
        "outputId": "43b99188-dd8e-42ad-c625-a85720282fd3"
      },
      "execution_count": 30,
      "outputs": [
        {
          "output_type": "stream",
          "name": "stdout",
          "text": [
            "Hello, my name is Priya and I am 30 years old.\n"
          ]
        }
      ]
    },
    {
      "cell_type": "markdown",
      "source": [
        "### **12.Implement a class Student with attributes name and grades. Create a method average_grade() to compute the average of the grades.**\n",
        "**Ans.-**"
      ],
      "metadata": {
        "id": "17jNN9CBkAXU"
      }
    },
    {
      "cell_type": "code",
      "source": [
        "class Student:\n",
        "    def __init__(self, name, grades):\n",
        "        self.name = name\n",
        "        self.grades = grades  # Expecting a list of numbers\n",
        "\n",
        "    def average_grade(self):\n",
        "        if not self.grades:\n",
        "            return 0\n",
        "        return sum(self.grades) / len(self.grades)\n",
        "\n",
        "# Example usage:\n",
        "s1 = Student(\"priya\", [85, 90, 78, 92])\n",
        "print(f\"{s1.name}'s average grade is:\", s1.average_grade())\n"
      ],
      "metadata": {
        "colab": {
          "base_uri": "https://localhost:8080/"
        },
        "id": "m3ZlQI3yjhrl",
        "outputId": "80f7338b-e7b1-4fa4-c1e5-3d9cc1db3a06"
      },
      "execution_count": 32,
      "outputs": [
        {
          "output_type": "stream",
          "name": "stdout",
          "text": [
            "priya's average grade is: 86.25\n"
          ]
        }
      ]
    },
    {
      "cell_type": "markdown",
      "source": [
        "### **13. Create a class Rectangle with methods set_dimensions() to set the dimensions and area() to calculate the area.**\n",
        "**Ans.-**"
      ],
      "metadata": {
        "id": "NV4uHHoFkbuF"
      }
    },
    {
      "cell_type": "code",
      "source": [
        "class Rectangle:\n",
        "    def __init__(self):\n",
        "        self.length = 0\n",
        "        self.width = 0\n",
        "\n",
        "    def set_dimensions(self, length, width):\n",
        "        self.length = length\n",
        "        self.width = width\n",
        "\n",
        "    def area(self):\n",
        "        return self.length * self.width\n",
        "\n",
        "# Example usage:\n",
        "rect = Rectangle()\n",
        "rect.set_dimensions(5, 3)\n",
        "print(\"Area of rectangle:\", rect.area())\n"
      ],
      "metadata": {
        "colab": {
          "base_uri": "https://localhost:8080/"
        },
        "id": "6avguM2qkV8X",
        "outputId": "e0fb1727-a29d-4883-fbe0-b6c291d9aa89"
      },
      "execution_count": 33,
      "outputs": [
        {
          "output_type": "stream",
          "name": "stdout",
          "text": [
            "Area of rectangle: 15\n"
          ]
        }
      ]
    },
    {
      "cell_type": "markdown",
      "source": [
        "### **14.Create a class Employee with a method calculate_salary() that computes the salary based on hours worked and hourly rate. Create a derived class Manager that adds a bonus to the salary.**\n",
        "**Ans.-**\n"
      ],
      "metadata": {
        "id": "oz4rEnY3k4W_"
      }
    },
    {
      "cell_type": "code",
      "source": [
        "# Base class\n",
        "class Employee:\n",
        "    def __init__(self, hours_worked, hourly_rate):\n",
        "        self.hours_worked = hours_worked\n",
        "        self.hourly_rate = hourly_rate\n",
        "\n",
        "    def calculate_salary(self):\n",
        "        return self.hours_worked * self.hourly_rate\n",
        "\n",
        "# Derived class\n",
        "class Manager(Employee):\n",
        "    def __init__(self, hours_worked, hourly_rate, bonus):\n",
        "        super().__init__(hours_worked, hourly_rate)\n",
        "        self.bonus = bonus\n",
        "\n",
        "    def calculate_salary(self):\n",
        "        base_salary = super().calculate_salary()\n",
        "        return base_salary + self.bonus\n",
        "\n",
        "# Example usage:\n",
        "emp = Employee(40, 200)\n",
        "print(\"Employee salary:\", emp.calculate_salary())\n",
        "\n",
        "mgr = Manager(40, 200, 5000)\n",
        "print(\"Manager salary:\", mgr.calculate_salary())\n"
      ],
      "metadata": {
        "colab": {
          "base_uri": "https://localhost:8080/"
        },
        "id": "nwSxpRoUkxv9",
        "outputId": "2b574715-6300-4c5a-a93c-c615cbdc93ac"
      },
      "execution_count": 34,
      "outputs": [
        {
          "output_type": "stream",
          "name": "stdout",
          "text": [
            "Employee salary: 8000\n",
            "Manager salary: 13000\n"
          ]
        }
      ]
    },
    {
      "cell_type": "markdown",
      "source": [
        "### **15.Create a class Product with attributes name, price, and quantity. Implement a method total_price() that calculates the total price of the product.**\n",
        "**Ans.-**\n"
      ],
      "metadata": {
        "id": "daNrJEFUlW2M"
      }
    },
    {
      "cell_type": "code",
      "source": [
        "class Product:\n",
        "    def __init__(self, name, price, quantity):\n",
        "        self.name = name\n",
        "        self.price = price\n",
        "        self.quantity = quantity\n",
        "\n",
        "    def total_price(self):\n",
        "        return self.price * self.quantity\n",
        "\n",
        "# Example usage:\n",
        "p1 = Product(\"Notebook\", 50, 3)\n",
        "print(f\"Total price for {p1.name}s:\", p1.total_price())\n"
      ],
      "metadata": {
        "colab": {
          "base_uri": "https://localhost:8080/"
        },
        "id": "Yn3hdX77lUOZ",
        "outputId": "26215769-4bc2-4732-a6fa-7b3126da64c4"
      },
      "execution_count": 35,
      "outputs": [
        {
          "output_type": "stream",
          "name": "stdout",
          "text": [
            "Total price for Notebooks: 150\n"
          ]
        }
      ]
    },
    {
      "cell_type": "markdown",
      "source": [
        "### **16. Create a class Animal with an abstract method sound(). Create two derived classes Cow and Sheep that implement the sound() method.**\n",
        "**Ans.-**\n"
      ],
      "metadata": {
        "id": "Ck1ds1t0lx1c"
      }
    },
    {
      "cell_type": "code",
      "source": [
        "from abc import ABC, abstractmethod\n",
        "\n",
        "# Abstract base class\n",
        "class Animal(ABC):\n",
        "    @abstractmethod\n",
        "    def sound(self):\n",
        "        pass\n",
        "\n",
        "# Derived class Cow\n",
        "class Cow(Animal):\n",
        "    def sound(self):\n",
        "        return \"Moo\"\n",
        "\n",
        "# Derived class Sheep\n",
        "class Sheep(Animal):\n",
        "    def sound(self):\n",
        "        return \"Baa\"\n",
        "\n",
        "# Example usage:\n",
        "cow = Cow()\n",
        "sheep = Sheep()\n",
        "\n",
        "print(\"Cow sound:\", cow.sound())\n",
        "print(\"Sheep sound:\", sheep.sound())\n"
      ],
      "metadata": {
        "colab": {
          "base_uri": "https://localhost:8080/"
        },
        "id": "4BoVIHXglw4x",
        "outputId": "abb08f8f-4dc0-4dcc-9341-e2360e46da41"
      },
      "execution_count": 36,
      "outputs": [
        {
          "output_type": "stream",
          "name": "stdout",
          "text": [
            "Cow sound: Moo\n",
            "Sheep sound: Baa\n"
          ]
        }
      ]
    },
    {
      "cell_type": "markdown",
      "source": [
        "### **17. Create a class Book with attributes title, author, and year_published. Add a method get_book_info() that returns a formatted string with the book's details.**\n",
        "**Ans.-**\n"
      ],
      "metadata": {
        "id": "_1l7PRYGmKbm"
      }
    },
    {
      "cell_type": "code",
      "source": [
        "class Book:\n",
        "    def __init__(self, title, author, year_published):\n",
        "        self.title = title\n",
        "        self.author = author\n",
        "        self.year_published = year_published\n",
        "\n",
        "    def get_book_info(self):\n",
        "        return f\"Title: {self.title}\\nAuthor: {self.author}\\nYear Published: {self.year_published}\"\n",
        "\n",
        "# Example usage:\n",
        "book1 = Book(\"To Kill a Mockingbird\", \"Harper Lee\", 1960)\n",
        "print(book1.get_book_info())\n"
      ],
      "metadata": {
        "colab": {
          "base_uri": "https://localhost:8080/"
        },
        "id": "xVRm9PNSmJj3",
        "outputId": "5c45b1ed-4595-492a-89b4-273fc54507bb"
      },
      "execution_count": 37,
      "outputs": [
        {
          "output_type": "stream",
          "name": "stdout",
          "text": [
            "Title: To Kill a Mockingbird\n",
            "Author: Harper Lee\n",
            "Year Published: 1960\n"
          ]
        }
      ]
    },
    {
      "cell_type": "markdown",
      "source": [
        "### **18. Create a class House with attributes address and price. Create a derived class Mansion that adds an attribute number_of_rooms.**\n",
        "**Ana.-**"
      ],
      "metadata": {
        "id": "EbE8uY3_mgAj"
      }
    },
    {
      "cell_type": "code",
      "source": [
        "# Base class\n",
        "class House:\n",
        "    def __init__(self, address, price):\n",
        "        self.address = address\n",
        "        self.price = price\n",
        "\n",
        "    def get_details(self):\n",
        "        return f\"Address: {self.address}\\nPrice: ${self.price}\"\n",
        "\n",
        "# Derived class\n",
        "class Mansion(House):\n",
        "    def __init__(self, address, price, number_of_rooms):\n",
        "        super().__init__(address, price)  # Call the constructor of the base class\n",
        "        self.number_of_rooms = number_of_rooms\n",
        "\n",
        "    def get_details(self):\n",
        "        base_details = super().get_details()  # Get details from the base class\n",
        "        return f\"{base_details}\\nNumber of Rooms: {self.number_of_rooms}\"\n",
        "\n",
        "# Example usage:\n",
        "house = House(\"123 Main St\", 250000)\n",
        "print(\"House Details:\\n\", house.get_details())\n",
        "\n",
        "mansion = Mansion(\"456 Luxury Ave\", 5000000, 10)\n",
        "print(\"\\nMansion Details:\\n\", mansion.get_details())\n"
      ],
      "metadata": {
        "colab": {
          "base_uri": "https://localhost:8080/"
        },
        "id": "Dt0zrS9omcav",
        "outputId": "d6811dd4-2035-4c62-a3c7-6d734c08f704"
      },
      "execution_count": 38,
      "outputs": [
        {
          "output_type": "stream",
          "name": "stdout",
          "text": [
            "House Details:\n",
            " Address: 123 Main St\n",
            "Price: $250000\n",
            "\n",
            "Mansion Details:\n",
            " Address: 456 Luxury Ave\n",
            "Price: $5000000\n",
            "Number of Rooms: 10\n"
          ]
        }
      ]
    },
    {
      "cell_type": "code",
      "source": [],
      "metadata": {
        "id": "ohQHxuHumy_E"
      },
      "execution_count": null,
      "outputs": []
    }
  ]
}